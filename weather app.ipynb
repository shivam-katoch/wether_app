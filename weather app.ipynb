{
 "cells": [
  {
   "cell_type": "code",
   "execution_count": 1,
   "metadata": {},
   "outputs": [
    {
     "name": "stderr",
     "output_type": "stream",
     "text": [
      "Exception in Tkinter callback\n",
      "Traceback (most recent call last):\n",
      "  File \"C:\\Users\\MSI India\\anaconda3\\lib\\tkinter\\__init__.py\", line 1883, in __call__\n",
      "    return self.func(*args)\n",
      "  File \"<ipython-input-1-a5fcaed877b4>\", line 9, in weather\n",
      "    weathertype =js_data['weather'][0]['main']\n",
      "KeyError: 'weather'\n"
     ]
    }
   ],
   "source": [
    "import tkinter as tk\n",
    "import requests\n",
    "import time\n",
    "\n",
    "def weather(canvas):\n",
    "    cityname =search .get()\n",
    "    app=\"https://api.openweathermap.org/data/2.5/weather?q=\"+ cityname +\"&appid=d0f165fd1694d401b505930c79cf3f60\"\n",
    "    js_data = requests.get(app).json()\n",
    "    weathertype =js_data['weather'][0]['main']\n",
    "    temp= int(js_data['main']['temp']-273.15)\n",
    "    mintemp= int(js_data['main']['temp_min']-273.15) \n",
    "    maxtemp= int(js_data['main']['temp_max']-273.15)\n",
    "    pr= js_data['main']['pressure']\n",
    "    hum= js_data['main']['humidity']\n",
    "    wins =js_data['wind']['speed']\n",
    "    srise=time.strftime(\"%I:%M:%S\",time.gmtime(js_data['sys']['sunrise']-19800))\n",
    "    sset=time.strftime(\"%I:%M:%S\",time.gmtime(js_data['sys']['sunset']-19800))\n",
    "    \n",
    "    op= weathertype+\"\\n\"+ str(temp)+\"°c\"\n",
    "    op2=\"\\n\"+\"MAX TEMP:\"+str(maxtemp)+\"°c\"+\"\\n\"+\"MIN TEMP:\"+str(mintemp)+\"°c\"+\"\\n\"+\"Pressure:\"+str(pr)+\"\\n\"+\"Humidity:\"+str(hum)+\"\\n\"+\"Wind Speed:\"+str(wins)+\"m/s\"+\"\\n\" +\"Sunrise:\"+srise+\"\\n\"  +\"Sunset:\"+sset+\"\\n\"\n",
    "    l1.config(text= op)\n",
    "    l2.config(text= op2)\n",
    "    \n",
    "canvas=tk.Tk()\n",
    "canvas.geometry(\"600x500\")\n",
    "canvas.config(background=\"#00A3A3\")\n",
    "canvas.title(\"Weather Report\")\n",
    "\n",
    "f1 =(\"Cooper Black\",15,\"bold\")\n",
    "f2 =(\"Cooper Black\",35,\"bold\")\n",
    "f3 =(\"Cooper Black\",35,\"bold\")\n",
    "\n",
    "L=tk.Label(canvas,text='WEATHER-FORECAST',foreground=\"white\",font=('Cooper Black',30),background=\"#00A3A3\")\n",
    "L.pack()\n",
    "search=tk.Entry(canvas,justify='center',font = f3,foreground=\"#00A3A3\",highlightthickness=5)\n",
    "search.config(highlightbackground = \"#5CFFFF\", highlightcolor= \"#5CFFFF\")\n",
    "search.pack(pady=20)\n",
    "search.focus()\n",
    "search.bind('<Return>',weather)\n",
    "\n",
    "l1=tk.Label(canvas,font=f2,background=\"#00A3A3\",foreground=\"white\")\n",
    "l1.pack()\n",
    "l2=tk.Label(canvas,font=f1,background=\"#00A3A3\",foreground=\"white\")\n",
    "l2.pack()\n",
    "\n",
    "canvas.mainloop()"
   ]
  },
  {
   "cell_type": "code",
   "execution_count": null,
   "metadata": {},
   "outputs": [],
   "source": []
  },
  {
   "cell_type": "code",
   "execution_count": null,
   "metadata": {},
   "outputs": [],
   "source": []
  },
  {
   "cell_type": "code",
   "execution_count": 1,
   "metadata": {},
   "outputs": [],
   "source": []
  },
  {
   "cell_type": "code",
   "execution_count": null,
   "metadata": {},
   "outputs": [],
   "source": []
  }
 ],
 "metadata": {
  "kernelspec": {
   "display_name": "Python 3",
   "language": "python",
   "name": "python3"
  },
  "language_info": {
   "codemirror_mode": {
    "name": "ipython",
    "version": 3
   },
   "file_extension": ".py",
   "mimetype": "text/x-python",
   "name": "python",
   "nbconvert_exporter": "python",
   "pygments_lexer": "ipython3",
   "version": "3.8.3"
  }
 },
 "nbformat": 4,
 "nbformat_minor": 4
}
